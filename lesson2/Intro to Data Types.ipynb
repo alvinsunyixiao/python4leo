{
 "cells": [
  {
   "cell_type": "markdown",
   "metadata": {},
   "source": [
    "在开始之前先跑一下⬇️下面的block, 这个`mistery`是哥哥写的(神秘)小模块, 里面有好玩儿的东东哦"
   ]
  },
  {
   "cell_type": "code",
   "execution_count": null,
   "metadata": {},
   "outputs": [],
   "source": [
    "import mistery"
   ]
  },
  {
   "cell_type": "markdown",
   "metadata": {},
   "source": [
    "# Python3基础之--变量&数据类型\n",
    "\n",
    "**变量**是所有计算机语言里常见的概念. **变量**其实就是生活中各种会*变*的**stuff**. **数据类型**通俗易懂地说就是**变量**属于什么类别. 举几个🌰:\n",
    "\n",
    "| 变量 | 数据类型 |\n",
    "|----------|-----------|\n",
    "|岁数|整数|\n",
    "|名字|字符串|\n",
    "|句子|字符串|\n",
    "|图片|矩阵|\n",
    "|音乐|数组|\n",
    "|文件|字符串|\n",
    "|...|...|\n",
    "\n",
    "\n",
    "出现了很多看不懂😷的词儿, 看看下面的几个🌰"
   ]
  },
  {
   "cell_type": "markdown",
   "metadata": {},
   "source": [
    "# 从简单开始 -- 整数变量 = 数星星"
   ]
  },
  {
   "cell_type": "markdown",
   "metadata": {},
   "source": [
    "试试改一改下面👇block里的`number_of_stars`然后跑一跑看看发生了什么"
   ]
  },
  {
   "cell_type": "code",
   "execution_count": null,
   "metadata": {},
   "outputs": [],
   "source": [
    "number_of_stars = 20\n",
    "mistery.draw_stars(number_of_stars)"
   ]
  },
  {
   "cell_type": "markdown",
   "metadata": {},
   "source": [
    "`number_of_stars`就是一个**整数变量**, 这个里面存的数是多少就有多少颗星星!\n",
    "\n",
    "那如果你不只想画星星(`*`)呢? 这个星星其实也是存在一个**变量**里面的! 改改下面的`star`试试看会发生什么"
   ]
  },
  {
   "cell_type": "code",
   "execution_count": null,
   "metadata": {},
   "outputs": [],
   "source": [
    "number_of_stars = 20\n",
    "star = '*'\n",
    "mistery.draw_stars(number_of_stars, star)"
   ]
  },
  {
   "cell_type": "markdown",
   "metadata": {},
   "source": [
    "`star`在上面的block里也是个变量, 但不是整数了, 而是**字符串**. 所有的字符串都要用双引号`\"`或者单引号`'`给包起来\n",
    "\n",
    "**字符串**: 顾名思义, 就是*一串儿***字符**. 那什么是**字符**呢? 简单来说, 一个**字符**可以是就是我们键盘上的各种小标示.\n",
    "\n",
    "**注意**: 数字以*`字符串`*的形式出现的时候(比如`\"9\"`)是不同于整数`9`的⬇️\n",
    "```python\n",
    "# a 不等于 b 哦!\n",
    "a = \"9\"\n",
    "b = 9\n",
    "```"
   ]
  },
  {
   "cell_type": "markdown",
   "metadata": {},
   "source": [
    "# Just For Fun!\n",
    "\n",
    "看看哥哥的神秘(`mistery`)模块里还有什么好玩儿的东西"
   ]
  },
  {
   "cell_type": "code",
   "execution_count": null,
   "metadata": {},
   "outputs": [],
   "source": [
    "# 画正方形\n",
    "length = 5\n",
    "star = '#'\n",
    "mistery.draw_square(length, star)"
   ]
  },
  {
   "cell_type": "code",
   "execution_count": null,
   "metadata": {},
   "outputs": [],
   "source": [
    "# 画长方形\n",
    "height = 3\n",
    "width = 4\n",
    "star = '*'\n",
    "mistery.draw_rectangle(height, width, star)"
   ]
  },
  {
   "cell_type": "code",
   "execution_count": null,
   "metadata": {},
   "outputs": [],
   "source": [
    "# 画等腰三角形 - height 是你想要的高度\n",
    "height = 5\n",
    "star = '&'\n",
    "mistery.draw_triangle(height, star)"
   ]
  },
  {
   "cell_type": "code",
   "execution_count": null,
   "metadata": {},
   "outputs": [],
   "source": []
  }
 ],
 "metadata": {
  "kernelspec": {
   "display_name": "Python 3",
   "language": "python",
   "name": "python3"
  },
  "language_info": {
   "codemirror_mode": {
    "name": "ipython",
    "version": 3
   },
   "file_extension": ".py",
   "mimetype": "text/x-python",
   "name": "python",
   "nbconvert_exporter": "python",
   "pygments_lexer": "ipython3",
   "version": "3.7.4"
  }
 },
 "nbformat": 4,
 "nbformat_minor": 2
}

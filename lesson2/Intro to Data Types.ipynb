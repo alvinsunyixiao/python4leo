{
 "cells": [
  {
   "cell_type": "markdown",
   "metadata": {},
   "source": [
    "# Introduction to Data Types and Variables\n",
    "\n",
    "This document will start from introducing the basic Python **variables** and **data types**. **Variables** are essential in all programming languages. **Variables** are basically **things** to be manipulated by the program. **Data types** are, as its name suggests, the **category** that each **vairiable** belongs to. For example:\n",
    "\n",
    "| variable | data type |\n",
    "|----------|-----------|\n",
    "|Age       |integer    |\n",
    "|Name      |string     |\n",
    "|Sentences |string     |\n",
    "|Images    |vectors    |\n",
    "|Music     |array      |\n",
    "|Files     |string     |\n",
    "|...       |...        |\n",
    "\n",
    "\n",
    "If you are confused at this point, let's take a look from an actual example"
   ]
  },
  {
   "cell_type": "markdown",
   "metadata": {},
   "source": [
    "# Starting Simple\n",
    "\n",
    "What's your name?\n",
    "How old are you?\n",
    "\n",
    "The `name` and `age` are 2 variables"
   ]
  },
  {
   "cell_type": "code",
   "execution_count": 1,
   "metadata": {},
   "outputs": [],
   "source": [
    "name = 'Alvin'\n",
    "age = 21"
   ]
  },
  {
   "cell_type": "code",
   "execution_count": null,
   "metadata": {},
   "outputs": [],
   "source": []
  },
  {
   "cell_type": "code",
   "execution_count": null,
   "metadata": {},
   "outputs": [],
   "source": []
  }
 ],
 "metadata": {
  "kernelspec": {
   "display_name": "Python 3",
   "language": "python",
   "name": "python3"
  },
  "language_info": {
   "codemirror_mode": {
    "name": "ipython",
    "version": 3
   },
   "file_extension": ".py",
   "mimetype": "text/x-python",
   "name": "python",
   "nbconvert_exporter": "python",
   "pygments_lexer": "ipython3",
   "version": "3.7.4"
  }
 },
 "nbformat": 4,
 "nbformat_minor": 2
}
